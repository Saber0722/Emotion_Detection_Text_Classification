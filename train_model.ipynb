{
 "cells": [
  {
   "cell_type": "markdown",
   "id": "6eb417af",
   "metadata": {},
   "source": [
    "# Training a Model with TensorFlow on for Emotion Detection"
   ]
  },
  {
   "cell_type": "markdown",
   "id": "47414b41",
   "metadata": {},
   "source": [
    "Checking GPU availability and setting up TensorFlow for GPU usage."
   ]
  },
  {
   "cell_type": "code",
   "execution_count": 1,
   "id": "d485d44f",
   "metadata": {},
   "outputs": [
    {
     "name": "stderr",
     "output_type": "stream",
     "text": [
      "2025-05-27 19:08:23.215634: I tensorflow/core/util/port.cc:113] oneDNN custom operations are on. You may see slightly different numerical results due to floating-point round-off errors from different computation orders. To turn them off, set the environment variable `TF_ENABLE_ONEDNN_OPTS=0`.\n",
      "2025-05-27 19:08:23.278922: E external/local_xla/xla/stream_executor/cuda/cuda_dnn.cc:9261] Unable to register cuDNN factory: Attempting to register factory for plugin cuDNN when one has already been registered\n",
      "2025-05-27 19:08:23.278954: E external/local_xla/xla/stream_executor/cuda/cuda_fft.cc:607] Unable to register cuFFT factory: Attempting to register factory for plugin cuFFT when one has already been registered\n",
      "2025-05-27 19:08:23.280249: E external/local_xla/xla/stream_executor/cuda/cuda_blas.cc:1515] Unable to register cuBLAS factory: Attempting to register factory for plugin cuBLAS when one has already been registered\n",
      "2025-05-27 19:08:23.287531: I tensorflow/core/platform/cpu_feature_guard.cc:182] This TensorFlow binary is optimized to use available CPU instructions in performance-critical operations.\n",
      "To enable the following instructions: AVX2 AVX_VNNI FMA, in other operations, rebuild TensorFlow with the appropriate compiler flags.\n",
      "2025-05-27 19:08:33.763809: W tensorflow/compiler/tf2tensorrt/utils/py_utils.cc:38] TF-TRT Warning: Could not find TensorRT\n"
     ]
    },
    {
     "name": "stdout",
     "output_type": "stream",
     "text": [
      "Num GPUs Available:  1\n"
     ]
    },
    {
     "name": "stderr",
     "output_type": "stream",
     "text": [
      "2025-05-27 19:08:49.763865: I external/local_xla/xla/stream_executor/cuda/cuda_executor.cc:887] could not open file to read NUMA node: /sys/bus/pci/devices/0000:01:00.0/numa_node\n",
      "Your kernel may have been built without NUMA support.\n",
      "2025-05-27 19:08:49.836124: I external/local_xla/xla/stream_executor/cuda/cuda_executor.cc:887] could not open file to read NUMA node: /sys/bus/pci/devices/0000:01:00.0/numa_node\n",
      "Your kernel may have been built without NUMA support.\n",
      "2025-05-27 19:08:49.836163: I external/local_xla/xla/stream_executor/cuda/cuda_executor.cc:887] could not open file to read NUMA node: /sys/bus/pci/devices/0000:01:00.0/numa_node\n",
      "Your kernel may have been built without NUMA support.\n"
     ]
    }
   ],
   "source": [
    "import tensorflow as tf\n",
    "print(\"Num GPUs Available: \", len(tf.config.list_physical_devices('GPU')))\n"
   ]
  },
  {
   "cell_type": "code",
   "execution_count": 51,
   "id": "d3423936",
   "metadata": {},
   "outputs": [],
   "source": [
    "# imports\n",
    "import tensorflow as tf\n",
    "import numpy as np\n",
    "from datasets import load_dataset\n",
    "from transformers import AutoTokenizer, TFAutoModelForSequenceClassification, DataCollatorWithPadding\n",
    "from sklearn.metrics import classification_report, confusion_matrix\n",
    "import matplotlib.pyplot as plt\n",
    "import seaborn as sns\n"
   ]
  },
  {
   "cell_type": "code",
   "execution_count": 4,
   "id": "e754f499",
   "metadata": {},
   "outputs": [
    {
     "name": "stderr",
     "output_type": "stream",
     "text": [
      "Generating train split: 100%|██████████| 16000/16000 [00:00<00:00, 97696.45 examples/s]\n",
      "Generating validation split: 100%|██████████| 2000/2000 [00:00<00:00, 169737.72 examples/s]\n",
      "Generating test split: 100%|██████████| 2000/2000 [00:00<00:00, 212504.32 examples/s]\n"
     ]
    }
   ],
   "source": [
    "# Loading the dataset\n",
    "dataset = load_dataset(\"emotion\", cache_dir=\"./cache\")"
   ]
  },
  {
   "cell_type": "code",
   "execution_count": 5,
   "id": "7086fff1",
   "metadata": {},
   "outputs": [
    {
     "name": "stderr",
     "output_type": "stream",
     "text": [
      "/mnt/d/Github/Emotion_Detection_Text_Classification/venv/lib/python3.11/site-packages/huggingface_hub/file_download.py:943: FutureWarning: `resume_download` is deprecated and will be removed in version 1.0.0. Downloads always resume when possible. If you want to force a new download, use `force_download=True`.\n",
      "  warnings.warn(\n"
     ]
    }
   ],
   "source": [
    "# Loading the tokenizer\n",
    "tokenizer = AutoTokenizer.from_pretrained(\"distilbert-base-uncased\", cache_dir=\"./cache\")"
   ]
  },
  {
   "cell_type": "code",
   "execution_count": 6,
   "id": "ff552e3a",
   "metadata": {},
   "outputs": [],
   "source": [
    "def tokenize_function(examples):\n",
    "    return tokenizer(examples[\"text\"], truncation=True)"
   ]
  },
  {
   "cell_type": "code",
   "execution_count": null,
   "id": "067b21a7",
   "metadata": {},
   "outputs": [
    {
     "name": "stderr",
     "output_type": "stream",
     "text": [
      "Map: 100%|██████████| 16000/16000 [00:00<00:00, 42699.71 examples/s]\n"
     ]
    }
   ],
   "source": [
    "# Separating the dataset into training, validation, and test sets\n",
    "train_dataset = dataset[\"train\"].map(tokenize_function, batched=True)\n",
    "validation_dataset = dataset[\"validation\"].map(tokenize_function, batched=True)\n",
    "test_dataset = dataset[\"test\"].map(tokenize_function, batched=True)"
   ]
  },
  {
   "cell_type": "code",
   "execution_count": null,
   "id": "df3ba8c6",
   "metadata": {},
   "outputs": [],
   "source": []
  },
  {
   "cell_type": "code",
   "execution_count": 27,
   "id": "b2023999",
   "metadata": {},
   "outputs": [],
   "source": [
    "# initializing a data collator\n",
    "data_collator = DataCollatorWithPadding(tokenizer=tokenizer, return_tensors=\"tf\", padding=True)"
   ]
  },
  {
   "cell_type": "code",
   "execution_count": 29,
   "id": "13a1ff24",
   "metadata": {},
   "outputs": [],
   "source": [
    "def create_tf_dataset(dataset, tokenizer, batch_size=32, shuffle=True):\n",
    "    # Convert to TensorFlow dataset with dynamic padding\n",
    "    tf_dataset = dataset.to_tf_dataset(\n",
    "        columns=['input_ids', 'attention_mask'],\n",
    "        label_cols=['label'],\n",
    "        batch_size=batch_size,\n",
    "        shuffle=shuffle,\n",
    "        collate_fn=data_collator,\n",
    "        drop_remainder=False  # Keep all samples\n",
    "    )\n",
    "    return tf_dataset\n"
   ]
  },
  {
   "cell_type": "code",
   "execution_count": 30,
   "id": "a43c1f9e",
   "metadata": {},
   "outputs": [
    {
     "name": "stderr",
     "output_type": "stream",
     "text": [
      "/mnt/d/Github/Emotion_Detection_Text_Classification/venv/lib/python3.11/site-packages/datasets/arrow_dataset.py:400: FutureWarning: The output of `to_tf_dataset` will change when a passing single element list for `labels` or `columns` in the next datasets version. To return a tuple structure rather than dict, pass a single string.\n",
      "Old behaviour: columns=['a'], labels=['labels'] -> (tf.Tensor, tf.Tensor)  \n",
      "             : columns='a', labels='labels' -> (tf.Tensor, tf.Tensor)  \n",
      "New behaviour: columns=['a'],labels=['labels'] -> ({'a': tf.Tensor}, {'labels': tf.Tensor})  \n",
      "             : columns='a', labels='labels' -> (tf.Tensor, tf.Tensor) \n",
      "  warnings.warn(\n",
      "You're using a DistilBertTokenizerFast tokenizer. Please note that with a fast tokenizer, using the `__call__` method is faster than using a method to encode the text followed by a call to the `pad` method to get a padded encoding.\n"
     ]
    }
   ],
   "source": [
    "# Creating tensorflow datasets\n",
    "train_tf_dataset = create_tf_dataset(train_dataset, tokenizer, batch_size=32, shuffle= True)\n",
    "validation_tf_dataset = create_tf_dataset(validation_dataset, tokenizer, batch_size=32, shuffle=False)\n",
    "test_tf_dataset = create_tf_dataset(test_dataset, tokenizer, batch_size=32, shuffle=False)\n"
   ]
  },
  {
   "cell_type": "code",
   "execution_count": 32,
   "id": "8f386117",
   "metadata": {},
   "outputs": [
    {
     "name": "stderr",
     "output_type": "stream",
     "text": [
      "/mnt/d/Github/Emotion_Detection_Text_Classification/venv/lib/python3.11/site-packages/huggingface_hub/file_download.py:943: FutureWarning: `resume_download` is deprecated and will be removed in version 1.0.0. Downloads always resume when possible. If you want to force a new download, use `force_download=True`.\n",
      "  warnings.warn(\n",
      "Some weights of the PyTorch model were not used when initializing the TF 2.0 model TFDistilBertForSequenceClassification: ['vocab_transform.weight', 'vocab_layer_norm.weight', 'vocab_layer_norm.bias', 'vocab_projector.bias', 'vocab_transform.bias']\n",
      "- This IS expected if you are initializing TFDistilBertForSequenceClassification from a PyTorch model trained on another task or with another architecture (e.g. initializing a TFBertForSequenceClassification model from a BertForPreTraining model).\n",
      "- This IS NOT expected if you are initializing TFDistilBertForSequenceClassification from a PyTorch model that you expect to be exactly identical (e.g. initializing a TFBertForSequenceClassification model from a BertForSequenceClassification model).\n",
      "Some weights or buffers of the TF 2.0 model TFDistilBertForSequenceClassification were not initialized from the PyTorch model and are newly initialized: ['pre_classifier.weight', 'pre_classifier.bias', 'classifier.weight', 'classifier.bias']\n",
      "You should probably TRAIN this model on a down-stream task to be able to use it for predictions and inference.\n"
     ]
    }
   ],
   "source": [
    "# Loading the model\n",
    "model = TFAutoModelForSequenceClassification.from_pretrained(\"distilbert-base-uncased\", num_labels=6)"
   ]
  },
  {
   "cell_type": "code",
   "execution_count": null,
   "id": "c2fd2c0f",
   "metadata": {},
   "outputs": [
    {
     "name": "stdout",
     "output_type": "stream",
     "text": [
      "Epoch 1/3\n"
     ]
    },
    {
     "name": "stderr",
     "output_type": "stream",
     "text": [
      "2025-05-27 21:06:46.963342: I external/local_xla/xla/service/service.cc:168] XLA service 0x7f9708750110 initialized for platform CUDA (this does not guarantee that XLA will be used). Devices:\n",
      "2025-05-27 21:06:46.963499: I external/local_xla/xla/service/service.cc:176]   StreamExecutor device (0): NVIDIA GeForce RTX 4060 Laptop GPU, Compute Capability 8.9\n",
      "2025-05-27 21:06:47.167431: I tensorflow/compiler/mlir/tensorflow/utils/dump_mlir_util.cc:269] disabling MLIR crash reproducer, set env var `MLIR_CRASH_REPRODUCER_DIRECTORY` to enable.\n",
      "2025-05-27 21:06:47.412058: I external/local_xla/xla/stream_executor/cuda/cuda_dnn.cc:454] Loaded cuDNN version 8907\n",
      "WARNING: All log messages before absl::InitializeLog() is called are written to STDERR\n",
      "I0000 00:00:1748360207.947984   14532 device_compiler.h:186] Compiled cluster using XLA!  This line is logged at most once for the lifetime of the process.\n"
     ]
    },
    {
     "name": "stdout",
     "output_type": "stream",
     "text": [
      "500/500 [==============================] - 82s 121ms/step - loss: 0.5825 - accuracy: 0.7993 - val_loss: 0.2410 - val_accuracy: 0.9125\n",
      "Epoch 2/3\n",
      "500/500 [==============================] - 57s 115ms/step - loss: 0.1639 - accuracy: 0.9351 - val_loss: 0.1507 - val_accuracy: 0.9355\n",
      "Epoch 3/3\n",
      "500/500 [==============================] - 57s 115ms/step - loss: 0.1132 - accuracy: 0.9491 - val_loss: 0.1398 - val_accuracy: 0.9355\n"
     ]
    },
    {
     "data": {
      "text/plain": [
       "<keras.src.callbacks.History at 0x7f9712f3cbd0>"
      ]
     },
     "execution_count": 33,
     "metadata": {},
     "output_type": "execute_result"
    }
   ],
   "source": [
    "# Defining the model\n",
    "history = model.compile(\n",
    "    optimizer = tf.keras.optimizers.Adam(learning_rate=2e-5),\n",
    "    loss = tf.keras.losses.SparseCategoricalCrossentropy(from_logits=True),\n",
    "    metrics = [\"accuracy\"]\n",
    ")\n",
    "\n",
    "# Training the model\n",
    "model.fit(\n",
    "    train_tf_dataset,\n",
    "    validation_data=validation_tf_dataset,\n",
    "    epochs=3\n",
    ")"
   ]
  },
  {
   "cell_type": "code",
   "execution_count": 34,
   "id": "db15321f",
   "metadata": {},
   "outputs": [
    {
     "data": {
      "text/plain": [
       "('./emotion_model/tokenizer_config.json',\n",
       " './emotion_model/special_tokens_map.json',\n",
       " './emotion_model/vocab.txt',\n",
       " './emotion_model/added_tokens.json',\n",
       " './emotion_model/tokenizer.json')"
      ]
     },
     "execution_count": 34,
     "metadata": {},
     "output_type": "execute_result"
    }
   ],
   "source": [
    "# Saving the model\n",
    "model.save_pretrained(\"./emotion_model\", save_format=\"tf\")\n",
    "# Saving the tokenizer\n",
    "tokenizer.save_pretrained(\"./emotion_model\")"
   ]
  },
  {
   "cell_type": "markdown",
   "id": "6f1a9a0b",
   "metadata": {},
   "source": [
    "Let's calculate metrics on test data"
   ]
  },
  {
   "cell_type": "code",
   "execution_count": 35,
   "id": "f36e3298",
   "metadata": {},
   "outputs": [
    {
     "name": "stdout",
     "output_type": "stream",
     "text": [
      "63/63 [==============================] - 3s 38ms/step - loss: 0.1637 - accuracy: 0.9280\n",
      "Test Loss: 0.16373372077941895, Test Accuracy: 0.9279999732971191\n"
     ]
    }
   ],
   "source": [
    "# Calculating metrics on the test set\n",
    "test_loss, test_accuracy = model.evaluate(test_tf_dataset)\n",
    "print(f\"Test Loss: {test_loss}, Test Accuracy: {test_accuracy}\")\n"
   ]
  },
  {
   "cell_type": "code",
   "execution_count": 53,
   "id": "e53fcb0f",
   "metadata": {},
   "outputs": [
    {
     "name": "stdout",
     "output_type": "stream",
     "text": [
      "63/63 [==============================] - 3s 36ms/step\n",
      "              precision    recall  f1-score   support\n",
      "\n",
      "     sadness       0.99      0.95      0.97       581\n",
      "         joy       0.95      0.95      0.95       695\n",
      "        love       0.81      0.86      0.83       159\n",
      "       anger       0.92      0.92      0.92       275\n",
      "        fear       0.85      0.96      0.90       224\n",
      "    surprise       0.88      0.64      0.74        66\n",
      "\n",
      "    accuracy                           0.93      2000\n",
      "   macro avg       0.90      0.88      0.88      2000\n",
      "weighted avg       0.93      0.93      0.93      2000\n",
      "\n"
     ]
    },
    {
     "data": {
      "image/png": "[encoded data removed]",
      "text/plain": [
       "<Figure size 1000x700 with 2 Axes>"
      ]
     },
     "metadata": {},
     "output_type": "display_data"
    }
   ],
   "source": [
    "# Classification Report and Confusion Matrix\n",
    "predictions = model.predict(test_tf_dataset)\n",
    "predicted_labels = np.argmax(predictions.logits, axis=1)\n",
    "true_labels = np.concatenate([y.numpy() for _, y in test_tf_dataset], axis=0)\n",
    "print(classification_report(true_labels, predicted_labels, target_names=dataset[\"train\"].features[\"label\"].names))\n",
    "cm = confusion_matrix(true_labels, predicted_labels)\n",
    "\n",
    "plt.figure(figsize=(10, 7))\n",
    "sns.heatmap(cm, annot=True, fmt='d', cmap='Blues', xticklabels=dataset[\"train\"].features[\"label\"].names, yticklabels=dataset[\"train\"].features[\"label\"].names)\n",
    "plt.xlabel('Predicted')\n",
    "plt.ylabel('True')\n",
    "plt.title('Confusion Matrix')\n",
    "plt.savefig('confusion_matrix.png')\n",
    "plt.show()\n"
   ]
  },
  {
   "cell_type": "markdown",
   "id": "168ba694",
   "metadata": {},
   "source": [
    "Let's test our model with custom sample inputs"
   ]
  },
  {
   "cell_type": "code",
   "execution_count": 41,
   "id": "22eeca63",
   "metadata": {},
   "outputs": [],
   "source": [
    "# Testing with new sample input\n",
    "def predict_emotion(text):\n",
    "    inputs = tokenizer(text, return_tensors=\"tf\", truncation=True, padding=True)\n",
    "    outputs = model(inputs)\n",
    "    logits = outputs.logits\n",
    "    predicted_class = tf.argmax(logits, axis=1).numpy()[0]\n",
    "    predicted_class = int(predicted_class)\n",
    "    return dataset[\"train\"].features[\"label\"].int2str(predicted_class)"
   ]
  },
  {
   "cell_type": "code",
   "execution_count": 47,
   "id": "130d4fd3",
   "metadata": {},
   "outputs": [
    {
     "name": "stdout",
     "output_type": "stream",
     "text": [
      "Text: I am so happy today! | Predicted Emotion: joy\n",
      "Text: I feel very sad and lonely. | Predicted Emotion: sadness\n",
      "Text: This is a neutral statement. | Predicted Emotion: joy\n",
      "Text: I am very confused about this situation. | Predicted Emotion: fear\n",
      "Text: I feel angry about the recent events. | Predicted Emotion: anger\n",
      "Text: I feel down today | Predicted Emotion: sadness\n"
     ]
    }
   ],
   "source": [
    "# Example usage\n",
    "sample_text = [\"I am so happy today!\", \n",
    "               \"I feel very sad and lonely.\", \n",
    "               \"This is a neutral statement.\", \n",
    "               \"I am very confused about this situation.\",\n",
    "               \"I feel angry about the recent events.\",\n",
    "               \"I feel down today\",\n",
    "               ]\n",
    "for text in sample_text:\n",
    "    emotion = predict_emotion(text)\n",
    "    print(f\"Text: {text} | Predicted Emotion: {emotion}\") "
   ]
  },
  {
   "cell_type": "code",
   "execution_count": null,
   "id": "2bde21f8",
   "metadata": {},
   "outputs": [],
   "source": []
  }
 ],
 "metadata": {
  "kernelspec": {
   "display_name": "venv",
   "language": "python",
   "name": "python3"
  },
  "language_info": {
   "codemirror_mode": {
    "name": "ipython",
    "version": 3
   },
   "file_extension": ".py",
   "mimetype": "text/x-python",
   "name": "python",
   "nbconvert_exporter": "python",
   "pygments_lexer": "ipython3",
   "version": "3.11.0rc1"
  }
 },
 "nbformat": 4,
 "nbformat_minor": 5
}
